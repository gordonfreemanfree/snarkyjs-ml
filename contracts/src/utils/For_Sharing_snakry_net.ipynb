{
  "cells": [
    {
      "cell_type": "markdown",
      "source": [
        "The goal is train "
      ],
      "metadata": {
        "id": "F023kOSnOxCs"
      }
    },
    {
      "cell_type": "code",
      "execution_count": null,
      "metadata": {
        "id": "w5fALUDImzHO"
      },
      "outputs": [],
      "source": [
        "# Import Libraries\n",
        "import tensorflow as tf\n",
        "import pandas as pd\n",
        "import numpy as np\n",
        "from tensorflow import keras\n",
        "from tensorflow.keras import layers\n",
        "from tensorflow.keras.datasets import mnist\n",
        "from matplotlib import pyplot as plt\n",
        "\n",
        "# Setup tensorflow GPUs\n",
        "gpu_devices = tf.config.experimental.list_physical_devices('GPU')\n",
        "for device in gpu_devices:\n",
        "    tf.config.experimental.set_memory_growth(device, True)\n",
        "\n",
        "# precision\n",
        "from tensorflow.keras import mixed_precision\n",
        "policy = mixed_precision.Policy('mixed_float16')\n",
        "mixed_precision.set_global_policy(policy)"
      ]
    },
    {
      "cell_type": "markdown",
      "source": [
        "# Prepare Images"
      ],
      "metadata": {
        "id": "_FUd90o7KAzS"
      }
    },
    {
      "cell_type": "code",
      "execution_count": null,
      "metadata": {
        "id": "XEeqnZCwmzHa"
      },
      "outputs": [],
      "source": [
        "# Load the MNIST Dataset\n",
        "(train_images, train_labels), (test_images, test_labels) = mnist.load_data()\n",
        "\n",
        "# Print out an image of size 28x28\n",
        "print(f'Label {train_labels[0]}')\n",
        "digit = train_images[0]\n",
        "plt.imshow( digit, cmap=plt.cm.binary )\n",
        "plt.show()"
      ]
    },
    {
      "cell_type": "code",
      "source": [
        "# Change images to smaller image size of 8x8\n",
        "train_images1 = tf.expand_dims(train_images, axis=-1)\n",
        "train_images2 = tf.image.resize(train_images1, [8,8])\n",
        "train_images_8x8 = tf.squeeze(train_images2, axis=-1).numpy()\n",
        "\n",
        "test_images1 = tf.expand_dims(test_images, axis=-1)\n",
        "test_images2 = tf.image.resize(test_images1, [8,8])\n",
        "test_images_8x8 = tf.squeeze(test_images2, axis=-1).numpy()\n",
        "\n",
        "# Reshape 8x8 array to a one dimensional 1x64 so it can be used as the input layer for the neural network below\n",
        "train_images = train_images_8x8.reshape((60000, 8 * 8))\n",
        "train_images = train_images.astype(\"float32\") / 255\n",
        "test_images = test_images_8x8.reshape((10000, 8 * 8))\n",
        "test_images = test_images.astype(\"float32\") / 255\n",
        "\n",
        "# Verify new training shape of (60000, 8, 8)\n",
        "train_images_8x8.shape"
      ],
      "metadata": {
        "id": "SRkqaWfC9AEB"
      },
      "execution_count": null,
      "outputs": []
    },
    {
      "cell_type": "code",
      "source": [
        "# Print out an image of size 8x8. Notice the smaller image size than above.\n",
        "print(f'Label {train_labels[0]}')\n",
        "digit = train_images_8x8[0]\n",
        "plt.imshow( digit, cmap=plt.cm.binary )\n",
        "plt.show()"
      ],
      "metadata": {
        "id": "CIXZd8h69AHs"
      },
      "execution_count": null,
      "outputs": []
    },
    {
      "cell_type": "markdown",
      "source": [
        "# Prepare Model"
      ],
      "metadata": {
        "id": "tETD4WVNKVjM"
      }
    },
    {
      "cell_type": "code",
      "source": [
        "# Create a custom constraint function so that weights will be constraint to positive values.\n",
        "from keras.constraints import Constraint\n",
        "import keras.backend as K\n",
        "\n",
        "class Between(Constraint):\n",
        "    def __init__(self, min_value, max_value):\n",
        "        self.min_value = min_value\n",
        "        self.max_value = max_value\n",
        "\n",
        "    def __call__(self, w):        \n",
        "        return K.clip(w, self.min_value, self.max_value)\n",
        "\n",
        "    def get_config(self):\n",
        "        return {'min_value': self.min_value,\n",
        "                'max_value': self.max_value}"
      ],
      "metadata": {
        "id": "MjKAWG_ZaQ-P"
      },
      "execution_count": null,
      "outputs": []
    },
    {
      "cell_type": "code",
      "source": [
        "# Model\n",
        "# Set bias term to false\n",
        "model = keras.Sequential( [\n",
        "    layers.Dense( 10, activation='relu', kernel_constraint=Between(min_value=0, max_value=100), use_bias=False ),\n",
        "    layers.Dense( 10, activation='softmax', kernel_constraint=Between(min_value=0, max_value=100), use_bias=False )\n",
        "    ] )\n",
        "\n",
        "# Training specifictations\n",
        "model.compile(  optimizer='rmsprop',\n",
        "                loss='sparse_categorical_crossentropy',\n",
        "                metrics=['accuracy'] )"
      ],
      "metadata": {
        "id": "HPnBo3uH9AOo"
      },
      "execution_count": null,
      "outputs": []
    },
    {
      "cell_type": "code",
      "source": [
        "# Fit model\n",
        "# Around 100 epochs are enough to reach an adequate accuracy for the given image and neural net size. \n",
        "model.fit(train_images, train_labels, epochs=100, batch_size=128)\n",
        "model.summary()"
      ],
      "metadata": {
        "id": "m4tWfVho-Gdm"
      },
      "execution_count": null,
      "outputs": []
    },
    {
      "cell_type": "code",
      "source": [
        "# Check accuracy on the test set.\n",
        "test_loss, test_acc = model.evaluate(test_images, test_labels)\n",
        "print( f'Test Accuracy: {test_acc}' )"
      ],
      "metadata": {
        "id": "69EgwT65Lh3L"
      },
      "execution_count": null,
      "outputs": []
    },
    {
      "cell_type": "code",
      "execution_count": null,
      "metadata": {
        "id": "rjvPpn4tmzH4"
      },
      "outputs": [],
      "source": [
        "# Save weights\n",
        "weights_list = []\n",
        "for layer in model.layers:\n",
        "    weights = layer.get_weights()\n",
        "    weights_list.append(weights[0].tolist())\n",
        "\n",
        "\n",
        "with open(r'weights.txt', 'w') as fp:\n",
        "    fp.write(str(weights_list))"
      ]
    },
    {
      "cell_type": "code",
      "source": [
        "# Check if any of the elements in the array are negative\n",
        "my_array = np.array(weights_list[0])\n",
        "\n",
        "if (my_array < 0).any():\n",
        "    print(\"The array contains negative numbers.\")\n",
        "else:\n",
        "    print(\"The array does not contain any negative numbers.\")\n"
      ],
      "metadata": {
        "id": "MEfVtrD_e4GB"
      },
      "execution_count": null,
      "outputs": []
    },
    {
      "cell_type": "markdown",
      "source": [
        "# Export lower resolution image  "
      ],
      "metadata": {
        "id": "byWGWjGY4_yi"
      }
    },
    {
      "cell_type": "code",
      "source": [
        "# Export the first 20 images of the test set as one dimensional arrays.\n",
        "l2 = []\n",
        "export = []\n",
        "for i in range(len(test_labels[:20])):\n",
        "    # print(\"let image_\"+str(i)+\"_label_\"+str(Y_test[i])+\" = \"+str(X_test[i].reshape(-1).astype(\"float32\")/255))\n",
        "    l2.append(f\"let image_{i}_label_{test_labels[i]} = {list(test_images[i].reshape(-1).astype('float32')/255)}\")\n",
        "    export.append(f\"image_{i}_label_{test_labels[i]}\")"
      ],
      "metadata": {
        "id": "PEtVJsGtB9cz"
      },
      "execution_count": null,
      "outputs": []
    },
    {
      "cell_type": "code",
      "source": [
        "with open(r'test_images_8x8.txt', 'w') as fp:\n",
        "    fp.write(str(export))\n",
        "    fp.write(\"\\n\")\n",
        "    for item in l2:\n",
        "        # write each item on a new line\n",
        "        fp.write(\"%s\\n\" % item)\n",
        "    print('Done')"
      ],
      "metadata": {
        "id": "iCwfgHN3t3-s"
      },
      "execution_count": null,
      "outputs": []
    }
  ],
  "metadata": {
    "accelerator": "GPU",
    "colab": {
      "provenance": [],
      "collapsed_sections": [
        "UUThsGwXmzH7",
        "byWGWjGY4_yi"
      ]
    },
    "gpuClass": "standard",
    "interpreter": {
      "hash": "916dbcbb3f70747c44a77c7bcd40155683ae19c65e1c03b4aa3499c5328201f1"
    },
    "kernelspec": {
      "display_name": "Python 3.9.2 64-bit",
      "name": "python3"
    },
    "language_info": {
      "codemirror_mode": {
        "name": "ipython",
        "version": 3
      },
      "file_extension": ".py",
      "mimetype": "text/x-python",
      "name": "python",
      "nbconvert_exporter": "python",
      "pygments_lexer": "ipython3",
      "version": "3.8.10"
    }
  },
  "nbformat": 4,
  "nbformat_minor": 0
}